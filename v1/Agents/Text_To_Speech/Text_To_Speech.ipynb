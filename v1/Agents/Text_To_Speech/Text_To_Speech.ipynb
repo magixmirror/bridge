{
 "cells": [
  {
   "cell_type": "markdown",
   "metadata": {},
   "source": [
    "**Necessary dependencies:**\n",
    "- pip install TTS"
   ]
  },
  {
   "cell_type": "markdown",
   "metadata": {},
   "source": [
    "**Package imports**"
   ]
  },
  {
   "cell_type": "code",
   "execution_count": 16,
   "metadata": {},
   "outputs": [],
   "source": [
    "from TTS.utils.manage import ModelManager\n",
    "from TTS.utils.synthesizer import Synthesizer"
   ]
  },
  {
   "cell_type": "markdown",
   "metadata": {},
   "source": [
    "**Voice Model download and configuration**"
   ]
  },
  {
   "cell_type": "code",
   "execution_count": 53,
   "metadata": {},
   "outputs": [
    {
     "name": "stdout",
     "output_type": "stream",
     "text": [
      " > tts_models/en/ljspeech/tacotron2-DDC is already downloaded.\n",
      " > vocoder_models/en/ljspeech/hifigan_v2 is already downloaded.\n",
      " > Using model: Tacotron2\n",
      " > Setting up Audio Processor...\n",
      " | > sample_rate:22050\n",
      " | > resample:False\n",
      " | > num_mels:80\n",
      " | > log_func:np.log\n",
      " | > min_level_db:-100\n",
      " | > frame_shift_ms:None\n",
      " | > frame_length_ms:None\n",
      " | > ref_level_db:20\n",
      " | > fft_size:1024\n",
      " | > power:1.5\n",
      " | > preemphasis:0.0\n",
      " | > griffin_lim_iters:60\n",
      " | > signal_norm:False\n",
      " | > symmetric_norm:True\n",
      " | > mel_fmin:0\n",
      " | > mel_fmax:8000.0\n",
      " | > pitch_fmin:1.0\n",
      " | > pitch_fmax:640.0\n",
      " | > spec_gain:1.0\n",
      " | > stft_pad_mode:reflect\n",
      " | > max_norm:4.0\n",
      " | > clip_norm:True\n",
      " | > do_trim_silence:True\n",
      " | > trim_db:60\n",
      " | > do_sound_norm:False\n",
      " | > do_amp_to_db_linear:True\n",
      " | > do_amp_to_db_mel:True\n",
      " | > do_rms_norm:False\n",
      " | > db_level:None\n",
      " | > stats_path:None\n",
      " | > base:2.718281828459045\n",
      " | > hop_length:256\n",
      " | > win_length:1024\n",
      " > Model's reduction rate `r` is set to: 1\n",
      " > Vocoder Model: hifigan\n",
      " > Setting up Audio Processor...\n",
      " | > sample_rate:22050\n",
      " | > resample:False\n",
      " | > num_mels:80\n",
      " | > log_func:np.log\n",
      " | > min_level_db:-100\n",
      " | > frame_shift_ms:None\n",
      " | > frame_length_ms:None\n",
      " | > ref_level_db:20\n",
      " | > fft_size:1024\n",
      " | > power:1.5\n",
      " | > preemphasis:0.0\n",
      " | > griffin_lim_iters:60\n",
      " | > signal_norm:False\n",
      " | > symmetric_norm:True\n",
      " | > mel_fmin:0\n",
      " | > mel_fmax:8000.0\n",
      " | > pitch_fmin:1.0\n",
      " | > pitch_fmax:640.0\n",
      " | > spec_gain:1.0\n",
      " | > stft_pad_mode:reflect\n",
      " | > max_norm:4.0\n",
      " | > clip_norm:True\n",
      " | > do_trim_silence:False\n",
      " | > trim_db:60\n",
      " | > do_sound_norm:False\n",
      " | > do_amp_to_db_linear:True\n",
      " | > do_amp_to_db_mel:True\n",
      " | > do_rms_norm:False\n",
      " | > db_level:None\n",
      " | > stats_path:None\n",
      " | > base:2.718281828459045\n",
      " | > hop_length:256\n",
      " | > win_length:1024\n",
      " > Generator Model: hifigan_generator\n",
      " > Discriminator Model: hifigan_discriminator\n",
      "Removing weight norm...\n"
     ]
    }
   ],
   "source": [
    "path = \"./models/models.json\"\n",
    "model_manager = ModelManager(path)\n",
    "model_path, config_path, model_item = model_manager.download_model(\"tts_models/en/ljspeech/tacotron2-DDC\")\n",
    "voc_path, voc_config_path, _ = model_manager.download_model(model_item[\"default_vocoder\"])\n",
    "syn = Synthesizer(\n",
    "    tts_checkpoint = model_path,\n",
    "    tts_config_path= config_path,\n",
    "    vocoder_checkpoint= voc_path,\n",
    "    vocoder_config= voc_config_path\n",
    ")"
   ]
  },
  {
   "cell_type": "code",
   "execution_count": 55,
   "metadata": {},
   "outputs": [
    {
     "name": "stdout",
     "output_type": "stream",
     "text": [
      " > Text splitted to sentences.\n",
      "['In the shadowy depths of Gotham City, where crime and corruption had long held sway, a caped crusader emerged as the symbol of hope.', \"Batman, the Dark Knight, patrolled the city's dark alleys and towering skyscrapers, a symbol of justice in an otherwise chaotic world.\", 'His origin was a tale of tragedy, a young Bruce Wayne witnessing the murder of his parents in a fateful alleyway.', 'It was this pivotal moment that set him on the path to becoming the vigilante known as Batman.', 'Armed with his unmatched detective skills, physical prowess, and an arsenal of high-tech gadgets, he dedicated his life to cleansing the city of crime.', 'From the depths of the Batcave, his hidden lair beneath Wayne Manor, Batman planned his strategies and honed his skills.', 'He was not just a hero but a symbol, a legend that struck fear into the hearts of criminals.', 'His iconic bat signal lit up the night sky, calling him to action whenever trouble arose.', \"Throughout his crime-fighting career, Batman faced a rogues' gallery of villains, each with their unique brand of madness and evil.\", 'From the enigmatic Riddler to the menacing Joker, he stood resolute, never wavering in his quest for justice.', 'But Batman was more than just a solitary figure.', 'He had allies, such as the resourceful Alfred Pennyworth, who served as his trusted butler and confidant, and Commissioner Jim Gordon, a beacon of integrity in a corrupt police force.', 'Despite the darkness that surrounded him, Batman remained a symbol of hope and resilience.', 'He was a reminder that, even in the face of the darkest of nights, there was always a chance for the dawn of a better day in Gotham City.']\n",
      " > Processing time: 34.20222592353821\n",
      " > Real-time factor: 0.28626661120213354\n"
     ]
    }
   ],
   "source": [
    "text=\"In the shadowy depths of Gotham City, where crime and corruption had long held sway, a caped crusader emerged as the symbol of hope. Batman, the Dark Knight, patrolled the city's dark alleys and towering skyscrapers, a symbol of justice in an otherwise chaotic world. His origin was a tale of tragedy, a young Bruce Wayne witnessing the murder of his parents in a fateful alleyway. It was this pivotal moment that set him on the path to becoming the vigilante known as Batman. Armed with his unmatched detective skills, physical prowess, and an arsenal of high-tech gadgets, he dedicated his life to cleansing the city of crime. From the depths of the Batcave, his hidden lair beneath Wayne Manor, Batman planned his strategies and honed his skills. He was not just a hero but a symbol, a legend that struck fear into the hearts of criminals. His iconic bat signal lit up the night sky, calling him to action whenever trouble arose. Throughout his crime-fighting career, Batman faced a rogues' gallery of villains, each with their unique brand of madness and evil. From the enigmatic Riddler to the menacing Joker, he stood resolute, never wavering in his quest for justice. But Batman was more than just a solitary figure. He had allies, such as the resourceful Alfred Pennyworth, who served as his trusted butler and confidant, and Commissioner Jim Gordon, a beacon of integrity in a corrupt police force. Despite the darkness that surrounded him, Batman remained a symbol of hope and resilience. He was a reminder that, even in the face of the darkest of nights, there was always a chance for the dawn of a better day in Gotham City.\"\n",
    "outputs = syn.tts(text)\n",
    "syn.save_wav(outputs, \"audio.wav\")"
   ]
  }
 ],
 "metadata": {
  "kernelspec": {
   "display_name": "Python 3",
   "language": "python",
   "name": "python3"
  },
  "language_info": {
   "codemirror_mode": {
    "name": "ipython",
    "version": 3
   },
   "file_extension": ".py",
   "mimetype": "text/x-python",
   "name": "python",
   "nbconvert_exporter": "python",
   "pygments_lexer": "ipython3",
   "version": "3.9.6"
  },
  "orig_nbformat": 4
 },
 "nbformat": 4,
 "nbformat_minor": 2
}
